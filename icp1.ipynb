{
  "nbformat": 4,
  "nbformat_minor": 0,
  "metadata": {
    "colab": {
      "provenance": [],
      "name": "icp1.ipynb",
      "authorship_tag": "ABX9TyOgW/5oWO5BAmfAku3csd/A",
      "include_colab_link": true
    },
    "kernelspec": {
      "name": "python3",
      "display_name": "Python 3"
    },
    "language_info": {
      "name": "python"
    },
    "accelerator": "TPU"
  },
  "cells": [
    {
      "cell_type": "markdown",
      "metadata": {
        "id": "view-in-github",
        "colab_type": "text"
      },
      "source": [
        "<a href=\"https://colab.research.google.com/github/Rohita-G/rohita-gangishetty-700750412/blob/main/icp1.ipynb\" target=\"_parent\"><img src=\"https://colab.research.google.com/assets/colab-badge.svg\" alt=\"Open In Colab\"/></a>"
      ]
    },
    {
      "cell_type": "markdown",
      "source": [],
      "metadata": {
        "id": "ndYX5B9HDZ7q"
      }
    },
    {
      "cell_type": "code",
      "source": [
        "s ='Python'\n",
        "x=s.replace('P','').replace('h','')\n",
        "print(x)\n",
        "y=x[::-1]\n",
        "print(y)"
      ],
      "metadata": {
        "colab": {
          "base_uri": "https://localhost:8080/"
        },
        "id": "1qoaI0AZHdPJ",
        "outputId": "10d35a30-43dd-4828-81fb-fe4cfe32891d"
      },
      "execution_count": null,
      "outputs": [
        {
          "output_type": "stream",
          "name": "stdout",
          "text": [
            "yton\n",
            "noty\n"
          ]
        }
      ]
    },
    {
      "cell_type": "code",
      "source": [
        "x=6\n",
        "y=81\n",
        "print(x+y)\n",
        "print(y/x)\n",
        "print(x-y)\n",
        "print(y**x)"
      ],
      "metadata": {
        "colab": {
          "base_uri": "https://localhost:8080/"
        },
        "id": "X_vkAxq3Mm2n",
        "outputId": "13ea7c61-f614-4c46-af08-3c83fa3bec99"
      },
      "execution_count": null,
      "outputs": [
        {
          "output_type": "stream",
          "name": "stdout",
          "text": [
            "87\n",
            "13.5\n",
            "-75\n",
            "282429536481\n"
          ]
        }
      ]
    },
    {
      "cell_type": "code",
      "source": [
        "str='python is a object oriented language and python is my favourite programming language'\n",
        "x=str.replace('python','pythons')\n",
        "print(x)"
      ],
      "metadata": {
        "colab": {
          "base_uri": "https://localhost:8080/"
        },
        "id": "CSWxupWuNdFd",
        "outputId": "2987c151-532a-454c-f1d3-c9792bc78504"
      },
      "execution_count": null,
      "outputs": [
        {
          "output_type": "stream",
          "name": "stdout",
          "text": [
            "pythons is a object oriented language and pythons is my favourite programming language\n"
          ]
        }
      ]
    },
    {
      "cell_type": "code",
      "source": [
        "marks = int(input('enter score:'))\n",
        "if marks>=90:\n",
        " print(\"A grade\")\n",
        "elif marks>=80:\n",
        " print(\"B garde\")\n",
        "elif marks>=70:\n",
        " print(\"C garde\")\n",
        "elif marks>=60:\n",
        " print(\"D garde\")\n",
        "else:\n",
        " print(\"F grade\")\n",
        "\n"
      ],
      "metadata": {
        "colab": {
          "base_uri": "https://localhost:8080/"
        },
        "id": "wtAuegujPB5S",
        "outputId": "502bfa23-7887-4a77-8c3f-9d346893428f"
      },
      "execution_count": null,
      "outputs": [
        {
          "output_type": "stream",
          "name": "stdout",
          "text": [
            "enter score:67\n",
            "D garde\n"
          ]
        }
      ]
    }
  ]
}