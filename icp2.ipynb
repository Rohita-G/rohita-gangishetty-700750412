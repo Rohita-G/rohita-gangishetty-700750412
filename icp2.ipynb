{
  "nbformat": 4,
  "nbformat_minor": 0,
  "metadata": {
    "colab": {
      "provenance": [],
      "authorship_tag": "ABX9TyOm65no4VldudPtvXUlMw4H",
      "include_colab_link": true
    },
    "kernelspec": {
      "name": "python3",
      "display_name": "Python 3"
    },
    "language_info": {
      "name": "python"
    }
  },
  "cells": [
    {
      "cell_type": "markdown",
      "metadata": {
        "id": "view-in-github",
        "colab_type": "text"
      },
      "source": [
        "<a href=\"https://colab.research.google.com/github/Rohita-G/rohita-gangishetty-700750412/blob/main/icp2.ipynb\" target=\"_parent\"><img src=\"https://colab.research.google.com/assets/colab-badge.svg\" alt=\"Open In Colab\"/></a>"
      ]
    },
    {
      "cell_type": "code",
      "execution_count": 138,
      "metadata": {
        "colab": {
          "base_uri": "https://localhost:8080/"
        },
        "id": "RyUM0MBVDnzv",
        "outputId": "8761b404-9ccc-4e8a-c691-418ea4f6d4f0"
      },
      "outputs": [
        {
          "output_type": "stream",
          "name": "stdout",
          "text": [
            "19 26\n",
            "[19, 19, 20, 22, 24, 24, 24, 25, 25, 26]\n",
            "24.0\n",
            "22.8\n",
            "range(0, 7)\n"
          ]
        }
      ],
      "source": [
        "from statistics import *\n",
        "ages = [19, 22, 19, 24, 20, 25, 26, 24, 25, 24]\n",
        "ages.sort()\n",
        "print(ages[0],ages[-1])\n",
        "print(ages)\n",
        "print(median(ages))\n",
        "print(mean(ages))\n",
        "x=range(ages[-1]-ages[0])\n",
        "print(x)\n"
      ]
    },
    {
      "cell_type": "code",
      "source": [
        "dog = {'name':'oreo','color':'black','breed':'lab','legs':4,'age':4}\n",
        "student={'first_name':'dan','last_name':'ric','gender':'male','age':33,'marital_status':'single','skills':['drive','coding'],'country':'aus','city':'mel','address':'xyz'}\n",
        "print(len(student))\n",
        "print(student['skills'])\n",
        "skill=student['skills']\n",
        "skills_type=type(skill)\n",
        "print('skills type:',skills_type)\n",
        "student['skills'].append('sking')\n",
        "student['skills'].extend(['surfing', 'golfing'])\n",
        "print('student skills are:',student['skills'])\n",
        "keys_list = list(student.keys())\n",
        "print(\"Dictionary keys as a list:\", keys_list)\n",
        "values_list = list(student.values())\n",
        "print(\"Dictionary values as a list:\", values_list)"
      ],
      "metadata": {
        "colab": {
          "base_uri": "https://localhost:8080/"
        },
        "id": "_5mitHkcIzNB",
        "outputId": "889aa00b-aff4-4c23-b866-9cdb182ea757"
      },
      "execution_count": 135,
      "outputs": [
        {
          "output_type": "stream",
          "name": "stdout",
          "text": [
            "9\n",
            "['drive', 'coding']\n",
            "skills type: <class 'list'>\n",
            "student skills are: ['drive', 'coding', 'sking', 'surfing', 'golfing']\n",
            "Dictionary keys as a list: ['first_name', 'last_name', 'gender', 'age', 'marital_status', 'skills', 'country', 'city', 'address']\n",
            "Dictionary values as a list: ['dan', 'ric', 'male', 33, 'single', ['drive', 'coding', 'sking', 'surfing', 'golfing'], 'aus', 'mel', 'xyz']\n"
          ]
        }
      ]
    },
    {
      "cell_type": "code",
      "source": [
        "it_companies = {'Facebook', 'Google', 'Microsoft', 'Apple', 'IBM', 'Oracle', 'Amazon'}\n",
        "A = {19, 22, 24, 20, 25, 26}\n",
        "B = {19, 22, 20, 25, 26, 24, 28, 27}\n",
        "age = [22, 19, 24, 25, 26, 24, 25, 24]\n",
        "print('length:',len(it_companies))\n",
        "print('it company original list:',it_companies)\n",
        "it_companies.add(\"twitter\")\n",
        "print('after adding twitter:',it_companies)\n",
        "it_companies.update(['whatsapp','snapchat'])\n",
        "print('adding 2 more companies:',it_companies)\n",
        "it_companies.remove('twitter')\n",
        "print('removing a company:',it_companies)\n",
        "A.remove(19)\n",
        "print(A)\n",
        "A.discard(4)                                                                        #here in set A element 4 is not available and yet it is not displaying any error unlike remove\n",
        "A.discard(26)\n",
        "print(A)\n",
        "set_union=A.union(B)\n",
        "print('join A and B:',set_union)\n",
        "set_intersection=A.intersection(B)\n",
        "print('intersection of A and B:',set_intersection)\n",
        "print('is A subset of B:',A.issubset(B))\n",
        "print('are A and B disjoin sets:',A.isdisjoint(B))\n",
        "print('join A with B:', A.update(B))                                                                         #joining A with B\n",
        "print('join B with A:', B.update(A))                                                                         #joining B with A\n",
        "print(A)\n",
        "print('symmetric difference between A and B:',A.symmetric_difference(B))\n",
        "del A\n",
        "del B                                                                                    #set A and B are deleted\n",
        "age_set = set(age)                                                                      #converting it into a set type\n",
        "len_age_list = len(age)\n",
        "len_age_set = len(age_set)\n",
        "print(\"Length of age list:\", len_age_list)\n",
        "print(\"Length of age set:\", len_age_set)"
      ],
      "metadata": {
        "colab": {
          "base_uri": "https://localhost:8080/"
        },
        "id": "0XMc5hTuNOAr",
        "outputId": "186db73d-2eff-4b57-ee48-8bb66c9ce09f"
      },
      "execution_count": 124,
      "outputs": [
        {
          "output_type": "stream",
          "name": "stdout",
          "text": [
            "length: 7\n",
            "it company original list: {'Facebook', 'Apple', 'IBM', 'Google', 'Amazon', 'Microsoft', 'Oracle'}\n",
            "after adding twitter: {'Facebook', 'Apple', 'IBM', 'Google', 'Amazon', 'Microsoft', 'twitter', 'Oracle'}\n",
            "adding 2 more companies: {'Facebook', 'Apple', 'twitter', 'Amazon', 'Microsoft', 'IBM', 'Google', 'snapchat', 'whatsapp', 'Oracle'}\n",
            "removing a company: {'Facebook', 'Apple', 'Amazon', 'Microsoft', 'IBM', 'Google', 'snapchat', 'whatsapp', 'Oracle'}\n",
            "{20, 22, 24, 25, 26}\n",
            "{20, 22, 24, 25}\n",
            "join A and B: {19, 20, 22, 24, 25, 26, 27, 28}\n",
            "intersection of A and B: {24, 25, 20, 22}\n",
            "is A subset of B: True\n",
            "are A and B disjoin sets: False\n",
            "join A with B: None\n",
            "join B with A: None\n",
            "{19, 20, 22, 24, 25, 26, 27, 28}\n",
            "symmetric difference between A and B: set()\n",
            "Length of age list: 8\n",
            "Length of age set: 5\n"
          ]
        }
      ]
    },
    {
      "cell_type": "code",
      "source": [
        "from statistics import mean\n",
        "class Employee:\n",
        "    employee_count = 0\n",
        "    def __init__(self, name, family, salary, department):\n",
        "        self.name = name\n",
        "        self.family = family\n",
        "        self.salary = salary\n",
        "        self.department = department\n",
        "        Employee.employee_count += 1\n",
        "    def average_salary(self, salaries):\n",
        "        return mean(salaries)\n",
        "class FulltimeEmployee(Employee):\n",
        "    def __init__(self, name, family, salary, department, experience):\n",
        "        super().__init__(name, family, salary, department)\n",
        "        self.experience = experience\n",
        "e1 = Employee(\"John\", \"Spouse\", 70000, \"IT\")\n",
        "e2 = Employee(\"Jasmine\", \"son\", 55000, \"tester\")\n",
        "fe1 = FulltimeEmployee(\"Alice\", \"Spouse\", 70000, \"Marketing\", 5)\n",
        "fe2 = FulltimeEmployee(\"Bob\", \"Child\", 75000, \"Finance\", 2)\n",
        "salaries = [e2.salary, fe2.salary]\n",
        "avg_salary_employee1 = e1.average_salary(salaries)\n",
        "avg_salary_fulltime_employee1 = fe1.average_salary(salaries)\n",
        "print(\"Average salary for Employee 1:\", avg_salary_employee1)\n",
        "print(\"Average salary for Fulltime Employee 1:\", avg_salary_fulltime_employee1)\n",
        "print(\"Total Employee count:\", Employee.employee_count)"
      ],
      "metadata": {
        "colab": {
          "base_uri": "https://localhost:8080/"
        },
        "id": "iemcbL6ufvDe",
        "outputId": "aa0d96d2-aee3-4437-cfe4-0e706cd149d7"
      },
      "execution_count": 143,
      "outputs": [
        {
          "output_type": "stream",
          "name": "stdout",
          "text": [
            "Average salary for Employee 1: 65000\n",
            "Average salary for Fulltime Employee 1: 65000\n",
            "Total Employee count: 4\n"
          ]
        }
      ]
    }
  ]
}