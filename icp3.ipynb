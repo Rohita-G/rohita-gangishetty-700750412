{
  "nbformat": 4,
  "nbformat_minor": 0,
  "metadata": {
    "colab": {
      "provenance": [],
      "authorship_tag": "ABX9TyOafVG/bSsZ2vGCcJZGAIJZ",
      "include_colab_link": true
    },
    "kernelspec": {
      "name": "python3",
      "display_name": "Python 3"
    },
    "language_info": {
      "name": "python"
    }
  },
  "cells": [
    {
      "cell_type": "markdown",
      "metadata": {
        "id": "view-in-github",
        "colab_type": "text"
      },
      "source": [
        "<a href=\"https://colab.research.google.com/github/Rohita-G/rohita-gangishetty-700750412/blob/main/icp3.ipynb\" target=\"_parent\"><img src=\"https://colab.research.google.com/assets/colab-badge.svg\" alt=\"Open In Colab\"/></a>"
      ]
    },
    {
      "cell_type": "code",
      "execution_count": null,
      "metadata": {
        "colab": {
          "base_uri": "https://localhost:8080/"
        },
        "id": "r70tqQCTlv8c",
        "outputId": "353ead9b-8eb3-4f8c-d778-14465dacd28e"
      },
      "outputs": [
        {
          "output_type": "stream",
          "name": "stdout",
          "text": [
            "[[ 9  8  7  6  5]\n",
            " [ 4  3  2  1 11]\n",
            " [ 0 20 13 14 15]]\n",
            "(3, 5)\n",
            "[ 9 11 20]\n"
          ]
        }
      ],
      "source": [
        "import numpy\n",
        "arr=numpy.array([9,8,7,6,5,4,3,2,1,11,0,20,13,14,15])\n",
        "re=numpy.reshape(arr,(3,5))\n",
        "print(re)\n",
        "print(re.shape)\n",
        "s=re.max(axis=1)\n",
        "print(s)"
      ]
    },
    {
      "cell_type": "code",
      "source": [
        "import numpy as np\n",
        "numpy_array = np.array([1, 2, 3, 4, -8, -10,11,4,6,3,1,6])\n",
        "a=numpy_array.reshape(4,3)\n",
        "print(a)\n",
        "print(\"shape:\",a.shape)\n",
        "print(\"datatype:\",a.dtype)\n",
        "print(\"type\",type(numpy_array))\n"
      ],
      "metadata": {
        "colab": {
          "base_uri": "https://localhost:8080/"
        },
        "id": "1RpMjCI9l4x9",
        "outputId": "c6ab82df-6110-42a3-eb80-de9cc9e6e543"
      },
      "execution_count": null,
      "outputs": [
        {
          "output_type": "stream",
          "name": "stdout",
          "text": [
            "[[  1   2   3]\n",
            " [  4  -8 -10]\n",
            " [ 11   4   6]\n",
            " [  3   1   6]]\n",
            "shape: (4, 3)\n",
            "datatype: int64\n",
            "type <class 'numpy.ndarray'>\n"
          ]
        }
      ]
    },
    {
      "cell_type": "code",
      "source": [
        "import numpy as np\n",
        "arr=np.array([[0 ,1, 2],\n",
        "             [3 ,4 ,5]])\n",
        "print(arr)\n",
        "print(\"sum of diagonal ele:\",np.trace(arr))"
      ],
      "metadata": {
        "colab": {
          "base_uri": "https://localhost:8080/"
        },
        "id": "MTKv_gptL5qf",
        "outputId": "6b2d90ac-8130-4a8f-ae45-046ebecc11ef"
      },
      "execution_count": null,
      "outputs": [
        {
          "output_type": "stream",
          "name": "stdout",
          "text": [
            "[[0 1 2]\n",
            " [3 4 5]]\n",
            "sum of diagonal ele: 4\n"
          ]
        }
      ]
    },
    {
      "cell_type": "code",
      "source": [
        "import numpy as np\n",
        "arr=np.arange(10,71,2)\n",
        "print(\"Array of all the even integers from 10 to 70\",arr)\n",
        "a=np.arange(11,70,2)\n",
        "print(\"Array of all the odd integers from 10 to 70\",a)\n",
        "b=np.array([[0 ,1, 2],\n",
        "             [3 ,4 ,5],\n",
        "          [1,3,5]])\n",
        "c=np.array([[1,2,3],\n",
        "            [4,5,6],\n",
        "           [6,4,3]])\n",
        "print(np.add(b, c))\n",
        "print(np.subtract(b, c))\n",
        "print(np.multiply(b, c))\n",
        "print(np.divide(b, c))\n",
        "array =np.array( [[5.54, 3.38, 7.99],\n",
        " [3.54, 4.38, 6.99],\n",
        " [1.54, 2.39, 9.29]])\n",
        "print(\"by col\",np.sort(array,axis=0))\n",
        "print(\"by row\",np.sort(array,axis=1))\n",
        "\n",
        "\n"
      ],
      "metadata": {
        "colab": {
          "base_uri": "https://localhost:8080/"
        },
        "id": "iOczgNwENnMJ",
        "outputId": "cd6253ed-4e83-4fa9-d6cd-27fc460da3c5"
      },
      "execution_count": null,
      "outputs": [
        {
          "output_type": "stream",
          "name": "stdout",
          "text": [
            "Array of all the even integers from 10 to 70 [10 12 14 16 18 20 22 24 26 28 30 32 34 36 38 40 42 44 46 48 50 52 54 56\n",
            " 58 60 62 64 66 68 70]\n",
            "Array of all the odd integers from 10 to 70 [11 13 15 17 19 21 23 25 27 29 31 33 35 37 39 41 43 45 47 49 51 53 55 57\n",
            " 59 61 63 65 67 69]\n",
            "[[ 1  3  5]\n",
            " [ 7  9 11]\n",
            " [ 7  7  8]]\n",
            "[[-1 -1 -1]\n",
            " [-1 -1 -1]\n",
            " [-5 -1  2]]\n",
            "[[ 0  2  6]\n",
            " [12 20 30]\n",
            " [ 6 12 15]]\n",
            "[[0.         0.5        0.66666667]\n",
            " [0.75       0.8        0.83333333]\n",
            " [0.16666667 0.75       1.66666667]]\n",
            "by col [[1.54 2.39 6.99]\n",
            " [3.54 3.38 7.99]\n",
            " [5.54 4.38 9.29]]\n",
            "by row [[3.38 5.54 7.99]\n",
            " [3.54 4.38 6.99]\n",
            " [1.54 2.39 9.29]]\n"
          ]
        }
      ]
    },
    {
      "cell_type": "code",
      "source": [
        "import numpy as np\n",
        "\n",
        "a=np.array( [[ 4, 2 ,np.nan, 1],\n",
        "[11, 12, 14, 9],\n",
        " [5, np.nan, 1, np.nan]])\n",
        "print(np.isnan(a))"
      ],
      "metadata": {
        "colab": {
          "base_uri": "https://localhost:8080/"
        },
        "id": "D4yWcgk-Omvx",
        "outputId": "b2474aca-8ec9-4f3c-94ac-d926ea73662b"
      },
      "execution_count": null,
      "outputs": [
        {
          "output_type": "stream",
          "name": "stdout",
          "text": [
            "[[False False  True False]\n",
            " [False False False False]\n",
            " [False  True False  True]]\n"
          ]
        }
      ]
    }
  ]
}